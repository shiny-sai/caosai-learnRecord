{
 "cells": [
  {
   "cell_type": "code",
   "execution_count": 4,
   "metadata": {},
   "outputs": [
    {
     "name": "stdout",
     "output_type": "stream",
     "text": [
      "2023-06-26\n"
     ]
    }
   ],
   "source": [
    "import datetime\n",
    "today = datetime.date.today()\n",
    "print(today)\n",
    "# 2023-06-26"
   ]
  },
  {
   "cell_type": "code",
   "execution_count": 19,
   "metadata": {},
   "outputs": [
    {
     "name": "stdout",
     "output_type": "stream",
     "text": [
      "\\\\10.170.90.1\\d$\\unm2000\\server\\log\\pas\\pas_logger_query\\pas_logger_query.2023-06-26.log\n"
     ]
    }
   ],
   "source": [
    "import re\n",
    "ip = '10.170.90.1'\n",
    "catalogue = r\"unm2000\\server\\log\\pas\\pas_logger_query\"\n",
    "filename = \"pas_logger_query\"\n",
    "srcfilepath = r\"\\\\{}\\d$\\{}\\{}.{}.log\".format(ip, catalogue, filename, today)\n",
    "print(srcfilepath)\n",
    "# \\\\10.170.90.1\\d$\\unm2000\\server\\log\\pas\\pas_logger_query\\pas_logger_query.2023-06-26.log"
   ]
  },
  {
   "cell_type": "code",
   "execution_count": 17,
   "metadata": {},
   "outputs": [
    {
     "name": "stdout",
     "output_type": "stream",
     "text": [
      "['pas_logger_collector_[Instance_2][6834][0-10-3][98].2023-06-25.log', 'pas_logger_query_[Instance_1][68455][0-10-3][12].2023-06-26.log']\n"
     ]
    }
   ],
   "source": [
    "import os\n",
    "srcfilename = r\"D:\\abc\"\n",
    "lists = os.listdir(srcfilename)\n",
    "print(lists)"
   ]
  },
  {
   "cell_type": "code",
   "execution_count": 21,
   "metadata": {},
   "outputs": [
    {
     "name": "stdout",
     "output_type": "stream",
     "text": [
      "['pas_logger_query_[Instance_1][68455][0-10-3][12].2023-06-26.log', 'pas_logger_collector_[Instance_2][6834][0-10-3][98].2023-06-25.log']\n",
      "['pas_logger_collector_[Instance_2][6834][0-10-3][98].2023-06-25.log', 'pas_logger_query_[Instance_1][68455][0-10-3][12].2023-06-26.log']\n",
      "D:\\abc\\pas_logger_query_[Instance_1][68455][0-10-3][12].2023-06-26.log\n"
     ]
    }
   ],
   "source": [
    "lists.sort(key=lambda fn: os.path.getmtime(srcfilename + \"\\\\\" + fn))\n",
    "# os.path.getmtime 返回最后的修改时间\n",
    "print(lists)\n",
    "lists.reverse()\n",
    "account = 1\n",
    "print(lists)\n",
    "filepath = r\"D:\\abc\\a\\a\"\n",
    "for x in lists:\n",
    "    if x.startswith(\"pas_logger_query_\"):\n",
    "        filepath = os.path.join(srcfilename, x)\n",
    "        print(filepath)\n",
    "        break\n",
    "    if account == len(lists):\n",
    "        print(\"未找到文件\")\n",
    "        break\n"
   ]
  },
  {
   "cell_type": "code",
   "execution_count": 23,
   "metadata": {},
   "outputs": [
    {
     "name": "stdout",
     "output_type": "stream",
     "text": [
      "1\n"
     ]
    }
   ],
   "source": [
    "args = [(\"1\", \"2\",\"3\")]\n",
    "print(args[0][0])"
   ]
  }
 ],
 "metadata": {
  "kernelspec": {
   "display_name": "Python 3",
   "language": "python",
   "name": "python3"
  },
  "language_info": {
   "codemirror_mode": {
    "name": "ipython",
    "version": 3
   },
   "file_extension": ".py",
   "mimetype": "text/x-python",
   "name": "python",
   "nbconvert_exporter": "python",
   "pygments_lexer": "ipython3",
   "version": "3.8.8"
  },
  "orig_nbformat": 4
 },
 "nbformat": 4,
 "nbformat_minor": 2
}

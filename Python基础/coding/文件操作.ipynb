{
 "cells": [
  {
   "cell_type": "code",
   "execution_count": 4,
   "metadata": {},
   "outputs": [
    {
     "name": "stdout",
     "output_type": "stream",
     "text": [
      "d:\\GitRepository\\caosai-learnRecord\\Python基础\\coding\n"
     ]
    }
   ],
   "source": [
    "import os\n",
    "pwd = os.getcwd()   # 获取当前目录的路径\n",
    "print(pwd)\n",
    "# d:\\GitRepository\\caosai-learnRecord\\Python基础\\coding\n"
   ]
  },
  {
   "cell_type": "code",
   "execution_count": 5,
   "metadata": {},
   "outputs": [
    {
     "name": "stdout",
     "output_type": "stream",
     "text": [
      "['.idea', 'collatz.py', 'eggs_全局_局部.py', 'global_关键字.py', 'Guess_Number.py', 'helloworld.py', 'list_dic_string_demo.py', '列表转化为字符串.py', '字符串.ipynb', '字符串.py', '字符图网格.py', '常用命令及语法.ipynb', '文件操作.ipynb', '正则表达式.ipynb']\n"
     ]
    }
   ],
   "source": [
    "lists = os.listdir(pwd) # 获取pwd路径下的所有文件名，形成一个列表\n",
    "print(lists)"
   ]
  },
  {
   "cell_type": "code",
   "execution_count": 6,
   "metadata": {},
   "outputs": [
    {
     "name": "stdout",
     "output_type": "stream",
     "text": [
      "d:\\GitRepository\\caosai-learnRecord\\Python基础\\coding\\.idea\n",
      "d:\\GitRepository\\caosai-learnRecord\\Python基础\\coding\\collatz.py\n",
      "d:\\GitRepository\\caosai-learnRecord\\Python基础\\coding\\eggs_全局_局部.py\n",
      "d:\\GitRepository\\caosai-learnRecord\\Python基础\\coding\\global_关键字.py\n",
      "d:\\GitRepository\\caosai-learnRecord\\Python基础\\coding\\Guess_Number.py\n",
      "d:\\GitRepository\\caosai-learnRecord\\Python基础\\coding\\helloworld.py\n",
      "d:\\GitRepository\\caosai-learnRecord\\Python基础\\coding\\list_dic_string_demo.py\n",
      "d:\\GitRepository\\caosai-learnRecord\\Python基础\\coding\\列表转化为字符串.py\n",
      "d:\\GitRepository\\caosai-learnRecord\\Python基础\\coding\\字符串.ipynb\n",
      "d:\\GitRepository\\caosai-learnRecord\\Python基础\\coding\\字符串.py\n",
      "d:\\GitRepository\\caosai-learnRecord\\Python基础\\coding\\字符图网格.py\n",
      "d:\\GitRepository\\caosai-learnRecord\\Python基础\\coding\\常用命令及语法.ipynb\n",
      "d:\\GitRepository\\caosai-learnRecord\\Python基础\\coding\\文件操作.ipynb\n",
      "d:\\GitRepository\\caosai-learnRecord\\Python基础\\coding\\正则表达式.ipynb\n"
     ]
    }
   ],
   "source": [
    "for x in lists:\n",
    "    filepath = os.path.join(pwd, x) # 拼接pwd文件夹路径与文件夹下的文件名，形成文件的绝对路径\n",
    "    print(filepath)"
   ]
  },
  {
   "cell_type": "code",
   "execution_count": 7,
   "metadata": {},
   "outputs": [],
   "source": [
    "# os.makedirs()创建新文件夹\n",
    "os.makedirs(\"D:\\\\test\\\\a\")"
   ]
  },
  {
   "cell_type": "code",
   "execution_count": 12,
   "metadata": {},
   "outputs": [
    {
     "name": "stdout",
     "output_type": "stream",
     "text": [
      "d:\\GitRepository\\caosai-learnRecord\\Python基础\\coding\n",
      "True\n",
      "a\\b.txt\n",
      "..\\..\\windows\\a\n"
     ]
    }
   ],
   "source": [
    "# 绝对路径和相对路径\n",
    "\n",
    "# 1. os.path.abspath(path) 将返回参数的绝对路径的字符串\n",
    "abspath = os.path.abspath('.')  # . 路径表示当前文件夹（相对路径）\n",
    "print(abspath)\n",
    "\n",
    "# 2. os.path.isabs(path) 判断一个路径是否是绝对路径\n",
    "result = os.path.isabs(abspath)\n",
    "print(result)\n",
    "\n",
    "# 3. os.path.relpath(path, start) 将返回从 start 路径到 path 的相对路径的字符串\n",
    "# 3.1 同目录下\n",
    "path = \"D:\\\\test\\\\a\\\\b.txt\"\n",
    "start = \"D:\\\\test\"\n",
    "relpath = os.path.relpath(path, start)\n",
    "print(relpath)\n",
    "# 3.2 同盘不同目录下\n",
    "relpath = os.path.relpath(path=\"D:\\\\windows\\\\a\", start=\"D:\\\\test\\\\a\")\n",
    "print(relpath)"
   ]
  },
  {
   "cell_type": "code",
   "execution_count": 4,
   "metadata": {},
   "outputs": [
    {
     "name": "stdout",
     "output_type": "stream",
     "text": [
      "D:\\test\\a\n",
      "b.txt\n"
     ]
    }
   ],
   "source": [
    "# dirname 与 basename\n",
    "import os\n",
    "path = \"D:\\\\test\\\\a\\\\b.txt\"\n",
    "# 1.dirname 会截取路径最后一个\\前的部分\n",
    "dirpath = os.path.dirname(path)\n",
    "\n",
    "# 2.basename 会截取路径最后一个\\后的部分\n",
    "basepath = os.path.basename(path)\n",
    "print(dirpath)\n",
    "print(basepath)"
   ]
  },
  {
   "cell_type": "code",
   "execution_count": null,
   "metadata": {},
   "outputs": [],
   "source": []
  }
 ],
 "metadata": {
  "kernelspec": {
   "display_name": "Python 3",
   "language": "python",
   "name": "python3"
  },
  "language_info": {
   "codemirror_mode": {
    "name": "ipython",
    "version": 3
   },
   "file_extension": ".py",
   "mimetype": "text/x-python",
   "name": "python",
   "nbconvert_exporter": "python",
   "pygments_lexer": "ipython3",
   "version": "3.8.8"
  },
  "orig_nbformat": 4
 },
 "nbformat": 4,
 "nbformat_minor": 2
}

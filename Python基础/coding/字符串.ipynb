{
 "cells": [
  {
   "cell_type": "code",
   "execution_count": 1,
   "metadata": {},
   "outputs": [
    {
     "name": "stdout",
     "output_type": "stream",
     "text": [
      "That is Alice's cat.\n"
     ]
    }
   ],
   "source": [
    "spam = \"That is Alice's cat.\"\n",
    "# 字符串用双引号\n",
    "print(spam)"
   ]
  },
  {
   "cell_type": "code",
   "execution_count": 2,
   "metadata": {},
   "outputs": [
    {
     "name": "stdout",
     "output_type": "stream",
     "text": [
      "say hi to Bob's mom\n",
      "\"say hi to Bob's mom\"\n",
      "\tsay hi to Bob's mom\n",
      "say hi \n",
      "to Bob's mom\n",
      "say hi to Bob's mom\\\n"
     ]
    }
   ],
   "source": [
    "# 转义字符\n",
    "print('say hi to Bob\\'s mom')\n",
    "print('\\\"say hi to Bob\\'s mom\\\"')\n",
    "print('\\tsay hi to Bob\\'s mom')\n",
    "print('say hi \\nto Bob\\'s mom')\n",
    "print('say hi to Bob\\'s mom\\\\')"
   ]
  },
  {
   "cell_type": "code",
   "execution_count": 3,
   "metadata": {},
   "outputs": [
    {
     "name": "stdout",
     "output_type": "stream",
     "text": [
      "say hi to Bob\\'s mom\n"
     ]
    }
   ],
   "source": [
    "# 原始字符串\n",
    "print(r'say hi to Bob\\'s mom')\n",
    "# 在字符串前加r，表示原始字符串"
   ]
  },
  {
   "cell_type": "code",
   "execution_count": 4,
   "metadata": {},
   "outputs": [
    {
     "name": "stdout",
     "output_type": "stream",
     "text": [
      " she is\n",
      "my lover\n",
      "hahah\n"
     ]
    }
   ],
   "source": [
    "# 三重引号 表示多行字符串\n",
    "\n",
    "print(''' she is\n",
    "my lover\n",
    "hahah''')"
   ]
  },
  {
   "cell_type": "code",
   "execution_count": 5,
   "metadata": {},
   "outputs": [
    {
     "name": "stdout",
     "output_type": "stream",
     "text": [
      "hel\n",
      "helloWor\n"
     ]
    }
   ],
   "source": [
    "# 字符串切片\n",
    "spam = 'helloWorld'\n",
    "\n",
    "print(spam[0:3])\n",
    "print(spam[0:8])"
   ]
  },
  {
   "cell_type": "code",
   "execution_count": 2,
   "metadata": {},
   "outputs": [
    {
     "name": "stdout",
     "output_type": "stream",
     "text": [
      "CaOsaI\n",
      "CAOSAI\n",
      "caosai\n"
     ]
    }
   ],
   "source": [
    "# upper()、lower()、isupper()和 islower()\n",
    "# upper() 和 lower() 字符串方法会返回一个新的字符串\n",
    "str = 'CaOsaI'\n",
    "print(str)\n",
    "print(str.upper())\n",
    "print(str.lower())"
   ]
  },
  {
   "attachments": {},
   "cell_type": "markdown",
   "metadata": {},
   "source": [
    "isX 字符串方法\n",
    "+ isalpha()返回 True，如果字符串只包含字母，并且非空；\n",
    "+ isalnum()返回 True，如果字符串只包含字母和数字，并且非空；\n",
    "+ isdecimal()返回 True，如果字符串只包含数字字符，并且非空；\n",
    "+ isspace()返回 True，如果字符串只包含空格、制表符和换行，并且非空；\n",
    "+ istitle()返回 True，如果字符串仅包含以大写字母开头、后面都是小写字母的单词。"
   ]
  },
  {
   "cell_type": "code",
   "execution_count": 7,
   "metadata": {},
   "outputs": [
    {
     "data": {
      "text/plain": [
       "True"
      ]
     },
     "execution_count": 7,
     "metadata": {},
     "output_type": "execute_result"
    }
   ],
   "source": [
    "# startswith()和 endswith() 方法判断是否以某个字符串开始或结尾\n",
    "'Hello World'.startswith('hello')"
   ]
  },
  {
   "cell_type": "code",
   "execution_count": 8,
   "metadata": {},
   "outputs": [
    {
     "data": {
      "text/plain": [
       "False"
      ]
     },
     "execution_count": 8,
     "metadata": {},
     "output_type": "execute_result"
    }
   ],
   "source": [
    "'Hello World'.endswith('hello')"
   ]
  },
  {
   "cell_type": "code",
   "execution_count": 9,
   "metadata": {},
   "outputs": [
    {
     "data": {
      "text/plain": [
       "True"
      ]
     },
     "execution_count": 9,
     "metadata": {},
     "output_type": "execute_result"
    }
   ],
   "source": [
    "'Hello World'.endswith('World')"
   ]
  },
  {
   "cell_type": "code",
   "execution_count": 14,
   "metadata": {},
   "outputs": [
    {
     "data": {
      "text/plain": [
       "['My', 'lover', 'is', 'mengyi']"
      ]
     },
     "execution_count": 14,
     "metadata": {},
     "output_type": "execute_result"
    }
   ],
   "source": [
    "# join() 和 split() 方法\n",
    "' '.join(['I','love', 'you', 'mengyi'])"
   ]
  },
  {
   "cell_type": "code",
   "execution_count": 17,
   "metadata": {},
   "outputs": [
    {
     "name": "stdout",
     "output_type": "stream",
     "text": [
      "['My', 'lover', 'is', 'mengyi']\n",
      "['cats', 'dogs', 'pigs']\n"
     ]
    }
   ],
   "source": [
    "# split() 方法默认使用空格分隔,分割后为列表类型\n",
    "spam = 'My lover is mengyi'.split()\n",
    "print(spam)\n",
    "spam = 'cats,dogs,pigs'.split(',')\n",
    "print(spam)"
   ]
  },
  {
   "cell_type": "code",
   "execution_count": 20,
   "metadata": {},
   "outputs": [
    {
     "name": "stdout",
     "output_type": "stream",
     "text": [
      "     Hello\n",
      "Hello     \n",
      "       Hello        \n",
      "=======Hello========\n",
      "*****Hello\n"
     ]
    }
   ],
   "source": [
    "# 用 rjust()、ljust()和 center()方法对齐文本\n",
    "# rjust表示左边调整 ljust表示右边调整\n",
    "sp = 'Hello'.rjust(10) # 默认插入空格\n",
    "print(sp)\n",
    "sb = 'Hello'.ljust(10)\n",
    "print(sb)\n",
    "st = 'Hello'.center(20)\n",
    "print(st)\n",
    "st = 'Hello'.center(20, '=')\n",
    "print(st)\n",
    "sp = 'Hello'.rjust(10, '*')\n",
    "print(sp)\n"
   ]
  },
  {
   "cell_type": "code",
   "execution_count": 22,
   "metadata": {},
   "outputs": [
    {
     "name": "stdout",
     "output_type": "stream",
     "text": [
      "Hello World\n",
      "Hello World \n",
      " Hello World\n"
     ]
    }
   ],
   "source": [
    "# 用 strip()、rstrip()和 lstrip()删除空白字符\n",
    "spam = ' Hello World '\n",
    "print(spam.strip()) # strip()函数去除开头和末尾的空格\n",
    "print(spam.lstrip())\n",
    "print(spam.rstrip())\n"
   ]
  },
  {
   "cell_type": "code",
   "execution_count": 25,
   "metadata": {},
   "outputs": [
    {
     "data": {
      "text/plain": [
       "<function pyperclip.init_windows_clipboard.<locals>.paste_windows()>"
      ]
     },
     "execution_count": 25,
     "metadata": {},
     "output_type": "execute_result"
    }
   ],
   "source": [
    "import pyperclip\n",
    "pyperclip.copy('Hello world!') # 'Hello World' 被粘贴在剪切板\n",
    "pyperclip.paste"
   ]
  },
  {
   "cell_type": "code",
   "execution_count": 1,
   "metadata": {},
   "outputs": [
    {
     "name": "stdout",
     "output_type": "stream",
     "text": [
      "phone number is 2564-4456-6589\n"
     ]
    }
   ],
   "source": [
    "# 正则表达式\n",
    "# 1、导入re库\n",
    "import re\n",
    "# 2、创建一个Regex对象\n",
    "regex_1 = re.compile(r'\\d\\d\\d\\d-\\d\\d\\d\\d-\\d\\d\\d\\d')\n",
    "# 3、利用search()方法搜索字符串,记得传入参数（原始字符串）。返回值为：Match对象\n",
    "match_1 = regex_1.search('My phone is 2564-4456-6589')\n",
    "# 4、调用Match对象的group()方法，返回实际匹配到的文本的字符串\n",
    "print('phone number is ' + match_1.group())"
   ]
  },
  {
   "cell_type": "code",
   "execution_count": null,
   "metadata": {},
   "outputs": [],
   "source": [
    "#  利用括号分组 (\\d\\d\\d)-(\\d\\d\\d-\\d\\d\\d\\d)\n",
    "# 第一个括号是第一组，第二个括号是第二组\n",
    "phoneNumRegex = re.compile(r'(\\d\\d\\d)-(\\d\\d\\d-\\d\\d\\d\\d)')\n",
    "mo = phoneNumRegex.search('My number is 415-555-4242.')\n",
    "mo.groups()\n",
    "# ('415', '555-4242')\n",
    "areaCode, mainNumber = mo.groups()\n",
    "print(areaCode)\n",
    "# 415\n",
    "print(mainNumber)\n",
    "# 555-4242\n"
   ]
  },
  {
   "attachments": {},
   "cell_type": "markdown",
   "metadata": {},
   "source": [
    "1、问号 '?' 可以实现匹配问号前的**分组** 0次 或者 1次\n",
    "\n",
    "2、管道符 '|' ，可以指定几种可选的模式去匹配其中任意一种。\n",
    "\n",
    "3、星号 '*' ，表示匹配 0次 或者 任意次\n",
    "\n",
    "4、加号 '+' ，表示匹配 1次 或者 任意次\n",
    "\n",
    "5、花括号'{}'中写数字，表示匹配前面的分组 特定数字 次\n",
    "\n",
    "```python\n",
    "(wo){3}\n",
    "# 表示匹配三次\n",
    "```"
   ]
  },
  {
   "attachments": {},
   "cell_type": "markdown",
   "metadata": {},
   "source": [
    "# 贪心匹配 和 非贪心匹配\n",
    "\n",
    "```python\n",
    "(Ha){3,4,5}\n",
    "# 表示可以匹配 3，4或者5次\n",
    "# Python 的正则表达式默认是“贪心”的，意味着python默认匹配最长的字符串\n",
    "\n",
    "```"
   ]
  },
  {
   "cell_type": "code",
   "execution_count": 2,
   "metadata": {},
   "outputs": [
    {
     "data": {
      "text/plain": [
       "'HaHaHaHaHa'"
      ]
     },
     "execution_count": 2,
     "metadata": {},
     "output_type": "execute_result"
    }
   ],
   "source": [
    "# 贪心\n",
    "import re\n",
    "greedyHaRegex = re.compile(r'(Ha){3,5}')\n",
    "mo1 = greedyHaRegex.search('HaHaHaHaHa')\n",
    "mo1.group()"
   ]
  },
  {
   "cell_type": "code",
   "execution_count": 4,
   "metadata": {},
   "outputs": [
    {
     "data": {
      "text/plain": [
       "'HaHaHa'"
      ]
     },
     "execution_count": 4,
     "metadata": {},
     "output_type": "execute_result"
    }
   ],
   "source": [
    "# 非贪心 （问号的作用二：表示非贪心匹配；作用一：表示匹配0次或者1次）\n",
    "import re\n",
    "greedyHaRegex = re.compile(r'(Ha){3,5}?')\n",
    "mo1 = greedyHaRegex.search('HaHaHaHaHa')\n",
    "mo1.group()"
   ]
  },
  {
   "cell_type": "code",
   "execution_count": 8,
   "metadata": {},
   "outputs": [
    {
     "name": "stdout",
     "output_type": "stream",
     "text": [
      "415-555-9999\n",
      "['415-555-9999', '212-555-0000']\n"
     ]
    }
   ],
   "source": [
    "# search() 与 findall() 方法\n",
    "import re\n",
    "phoneNumRegex = re.compile(r'\\d\\d\\d-\\d\\d\\d-\\d\\d\\d\\d')\n",
    "mo = phoneNumRegex.search('Cell: 415-555-9999 Work: 212-555-0000')\n",
    "print(mo.group())\n",
    "# '415-555-9999'\n",
    "\n",
    "mo = phoneNumRegex.findall('Cell: 415-555-9999 Work: 212-555-0000')\n",
    "print(mo)\n",
    "# ['415-555-9999', '212-555-0000']\n",
    "# findall() 方法返回一个列表"
   ]
  },
  {
   "cell_type": "code",
   "execution_count": 9,
   "metadata": {},
   "outputs": [
    {
     "name": "stdout",
     "output_type": "stream",
     "text": [
      "[('415', '555', '9999'), ('212', '555', '0000')]\n"
     ]
    }
   ],
   "source": [
    "# findal() 方法与分组结合使用\n",
    "import re\n",
    "phoneNumRegex = re.compile(r'(\\d\\d\\d)-(\\d\\d\\d)-(\\d\\d\\d\\d)')\n",
    "mo = phoneNumRegex.findall('Cell: 415-555-9999 Work: 212-555-0000')\n",
    "print(mo)\n",
    "# [('415', '555', '9999'), ('212', '555', '0000')]\n",
    "# 若正则表达式中含有分组，使用findall()方法会，返回一个元组的列表"
   ]
  },
  {
   "attachments": {},
   "cell_type": "markdown",
   "metadata": {},
   "source": [
    "- 缩写字符分类 | 表示\n",
    "\n",
    "- \\d | 0 到 9 的任何数字\n",
    "\n",
    "- \\D | 除 0 到 9 的数字以外的任何字符\n",
    "\n",
    "- \\w | 任何字母、数字或下划线字符（可以认为是匹配“单词”字符）\n",
    "\n",
    "- \\W | 除字母、数字和下划线以外的任何字符\n",
    "\n",
    "- \\s | 空格、制表符或换行符（可以认为是匹配“空白”字符）\n",
    "\n",
    "- \\S | 除空格、制表符和换行符以外的任何字符\n",
    "\n"
   ]
  },
  {
   "cell_type": "code",
   "execution_count": null,
   "metadata": {},
   "outputs": [],
   "source": [
    "r'[aeiouAEIOU]'\n",
    "# 上面将匹配所有的元音字符\n",
    "r'[^aeiouAEIOU]'\n",
    "# 上面将匹配所有的非元音字符\n",
    "# 在方括号内，普通的正则表达式符号不会被解释。\n",
    "# 不需要前面加上倒斜杠转义.、*、?或()字符\n",
    "[0-5.] # 匹配配数字 0 到 5 和一个句点\n"
   ]
  },
  {
   "attachments": {},
   "cell_type": "markdown",
   "metadata": {},
   "source": [
    "正则表达式的开始处使用插入符号（^），表明匹配必须发生在被查找文本开始处。类似地，可以再正则表达式的末尾加上美元符号\n",
    "，表示该字符串必须以这个正则表达式的模式结束。可以同时使用^和$，表明整个字符串必须匹配该模式，也就是说，只匹配该字符串的某个子集是不够的。"
   ]
  },
  {
   "cell_type": "code",
   "execution_count": 13,
   "metadata": {},
   "outputs": [
    {
     "data": {
      "text/plain": [
       "True"
      ]
     },
     "execution_count": 13,
     "metadata": {},
     "output_type": "execute_result"
    }
   ],
   "source": [
    "import re\n",
    "beginsWithHello = re.compile(r'^Hello')\n",
    "beginsWithHello.search('Hello world!')  # 匹配以Hello开始的字符串\n",
    "# <re.Match object; span=(0, 5), match='Hello'>\n",
    "\n",
    "beginsWithHello.search('He said hello.') == None\n",
    "# True"
   ]
  },
  {
   "cell_type": "code",
   "execution_count": 16,
   "metadata": {},
   "outputs": [
    {
     "data": {
      "text/plain": [
       "True"
      ]
     },
     "execution_count": 16,
     "metadata": {},
     "output_type": "execute_result"
    }
   ],
   "source": [
    "import re\n",
    "endsWithNumber = re.compile(r'\\d$')\n",
    "endsWithNumber.search('Your number is 42')  # 匹配以数字结尾的字符串\n",
    "# <_sre.SRE_Match object; span=(16, 17), match='2'>\n",
    "endsWithNumber.search('Your number is forty two.') == None\n",
    "# True"
   ]
  },
  {
   "cell_type": "code",
   "execution_count": 29,
   "metadata": {},
   "outputs": [
    {
     "data": {
      "text/plain": [
       "True"
      ]
     },
     "execution_count": 29,
     "metadata": {},
     "output_type": "execute_result"
    }
   ],
   "source": [
    "import re\n",
    "wholeStringIsNum = re.compile(r'^\\d+$')\n",
    "wholeStringIsNum.search('1234567890')\n",
    "# <re.Match object; span=(0, 10), match='1234567890'>\n",
    "wholeStringIsNum.search('12345xyz67890') == None    # True\n",
    "wholeStringIsNum.search('12 34567890') == None  # True\n",
    "wholeStringIsNum.search('ssssssss') == None  # True"
   ]
  },
  {
   "cell_type": "code",
   "execution_count": 30,
   "metadata": {},
   "outputs": [
    {
     "data": {
      "text/plain": [
       "['cat', 'hat', 'sat', 'lat', 'mat']"
      ]
     },
     "execution_count": 30,
     "metadata": {},
     "output_type": "execute_result"
    }
   ],
   "source": [
    "# 通配字符 . 只匹配一个字符\n",
    "import re\n",
    "atRegex = re.compile(r'.at')\n",
    "atRegex.findall('The cat in the hat sat on the flat mat.')\n"
   ]
  },
  {
   "cell_type": "code",
   "execution_count": 35,
   "metadata": {},
   "outputs": [
    {
     "data": {
      "text/plain": [
       "'<To serve man>'"
      ]
     },
     "execution_count": 35,
     "metadata": {},
     "output_type": "execute_result"
    }
   ],
   "source": [
    "# 用点-星(.*)匹配所有字符\n",
    "import re\n",
    "nameRegex = re.compile(r'First Name: (.*) Last Name: (.*)')\n",
    "mo = nameRegex.search('First Name: Al Last Name: Sweigart')\n",
    "mo.group(0)\n",
    "# .* 默认使用贪心模式，下面使用非贪心模式\n",
    "nongreedyRegex = re.compile(r'<.*?>')\n",
    "mo = nongreedyRegex.search('<To serve man> for dinner.>')\n",
    "mo.group()"
   ]
  },
  {
   "cell_type": "code",
   "execution_count": 37,
   "metadata": {},
   "outputs": [
    {
     "data": {
      "text/plain": [
       "'Serve the public trust.\\nProtect the innocent.\\nUphold the law.'"
      ]
     },
     "execution_count": 37,
     "metadata": {},
     "output_type": "execute_result"
    }
   ],
   "source": [
    "# 用句点字符匹配换行\n",
    "import re\n",
    "newlineRegex = re.compile('.*', re.DOTALL)\n",
    "newlineRegex.search('Serve the public trust.\\nProtect the innocent.\\nUphold the law.').group()"
   ]
  },
  {
   "cell_type": "code",
   "execution_count": 38,
   "metadata": {},
   "outputs": [],
   "source": [
    "# 正则表达式区分大小写\n",
    "# 要让正则表达式不区分大小写，可以向 re.compile()传入 re.IGNORECASE 或 re.I，作为第二个参数\n",
    "\n"
   ]
  }
 ],
 "metadata": {
  "kernelspec": {
   "display_name": "Python 3",
   "language": "python",
   "name": "python3"
  },
  "language_info": {
   "codemirror_mode": {
    "name": "ipython",
    "version": 3
   },
   "file_extension": ".py",
   "mimetype": "text/x-python",
   "name": "python",
   "nbconvert_exporter": "python",
   "pygments_lexer": "ipython3",
   "version": "3.8.8"
  },
  "orig_nbformat": 4
 },
 "nbformat": 4,
 "nbformat_minor": 2
}

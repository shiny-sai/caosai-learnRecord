{
 "cells": [
  {
   "cell_type": "code",
   "execution_count": 1,
   "metadata": {},
   "outputs": [
    {
     "name": "stdout",
     "output_type": "stream",
     "text": [
      "That is Alice's cat.\n"
     ]
    }
   ],
   "source": [
    "spam = \"That is Alice's cat.\"\n",
    "# 字符串用双引号\n",
    "print(spam)"
   ]
  },
  {
   "cell_type": "code",
   "execution_count": 2,
   "metadata": {},
   "outputs": [
    {
     "name": "stdout",
     "output_type": "stream",
     "text": [
      "say hi to Bob's mom\n",
      "\"say hi to Bob's mom\"\n",
      "\tsay hi to Bob's mom\n",
      "say hi \n",
      "to Bob's mom\n",
      "say hi to Bob's mom\\\n"
     ]
    }
   ],
   "source": [
    "# 转义字符\n",
    "print('say hi to Bob\\'s mom')\n",
    "print('\\\"say hi to Bob\\'s mom\\\"')\n",
    "print('\\tsay hi to Bob\\'s mom')\n",
    "print('say hi \\nto Bob\\'s mom')\n",
    "print('say hi to Bob\\'s mom\\\\')"
   ]
  },
  {
   "cell_type": "code",
   "execution_count": 3,
   "metadata": {},
   "outputs": [
    {
     "name": "stdout",
     "output_type": "stream",
     "text": [
      "say hi to Bob\\'s mom\n"
     ]
    }
   ],
   "source": [
    "# 原始字符串\n",
    "print(r'say hi to Bob\\'s mom')\n",
    "# 在字符串前加r，表示原始字符串"
   ]
  },
  {
   "cell_type": "code",
   "execution_count": 4,
   "metadata": {},
   "outputs": [
    {
     "name": "stdout",
     "output_type": "stream",
     "text": [
      " she is\n",
      "my lover\n",
      "hahah\n"
     ]
    }
   ],
   "source": [
    "# 三重引号 表示多行字符串\n",
    "\n",
    "print(''' she is\n",
    "my lover\n",
    "hahah''')"
   ]
  },
  {
   "cell_type": "code",
   "execution_count": 5,
   "metadata": {},
   "outputs": [
    {
     "name": "stdout",
     "output_type": "stream",
     "text": [
      "hel\n",
      "helloWor\n"
     ]
    }
   ],
   "source": [
    "# 字符串切片\n",
    "spam = 'helloWorld'\n",
    "\n",
    "print(spam[0:3])\n",
    "print(spam[0:8])"
   ]
  },
  {
   "cell_type": "code",
   "execution_count": 2,
   "metadata": {},
   "outputs": [
    {
     "name": "stdout",
     "output_type": "stream",
     "text": [
      "CaOsaI\n",
      "CAOSAI\n",
      "caosai\n"
     ]
    }
   ],
   "source": [
    "# upper()、lower()、isupper()和 islower()\n",
    "# upper() 和 lower() 字符串方法会返回一个新的字符串\n",
    "str = 'CaOsaI'\n",
    "print(str)\n",
    "print(str.upper())\n",
    "print(str.lower())"
   ]
  },
  {
   "attachments": {},
   "cell_type": "markdown",
   "metadata": {},
   "source": [
    "isX 字符串方法\n",
    "+ isalpha()返回 True，如果字符串只包含字母，并且非空；\n",
    "+ isalnum()返回 True，如果字符串只包含字母和数字，并且非空；\n",
    "+ isdecimal()返回 True，如果字符串只包含数字字符，并且非空；\n",
    "+ isspace()返回 True，如果字符串只包含空格、制表符和换行，并且非空；\n",
    "+ istitle()返回 True，如果字符串仅包含以大写字母开头、后面都是小写字母的单词。"
   ]
  },
  {
   "cell_type": "code",
   "execution_count": 7,
   "metadata": {},
   "outputs": [
    {
     "data": {
      "text/plain": [
       "True"
      ]
     },
     "execution_count": 7,
     "metadata": {},
     "output_type": "execute_result"
    }
   ],
   "source": [
    "# startswith()和 endswith() 方法判断是否以某个字符串开始或结尾\n",
    "'Hello World'.startswith('hello')"
   ]
  },
  {
   "cell_type": "code",
   "execution_count": 8,
   "metadata": {},
   "outputs": [
    {
     "data": {
      "text/plain": [
       "False"
      ]
     },
     "execution_count": 8,
     "metadata": {},
     "output_type": "execute_result"
    }
   ],
   "source": [
    "'Hello World'.endswith('hello')"
   ]
  },
  {
   "cell_type": "code",
   "execution_count": 9,
   "metadata": {},
   "outputs": [
    {
     "data": {
      "text/plain": [
       "True"
      ]
     },
     "execution_count": 9,
     "metadata": {},
     "output_type": "execute_result"
    }
   ],
   "source": [
    "'Hello World'.endswith('World')"
   ]
  },
  {
   "cell_type": "code",
   "execution_count": 14,
   "metadata": {},
   "outputs": [
    {
     "data": {
      "text/plain": [
       "['My', 'lover', 'is', 'mengyi']"
      ]
     },
     "execution_count": 14,
     "metadata": {},
     "output_type": "execute_result"
    }
   ],
   "source": [
    "# join() 和 split() 方法\n",
    "' '.join(['I','love', 'you', 'mengyi'])"
   ]
  },
  {
   "cell_type": "code",
   "execution_count": 17,
   "metadata": {},
   "outputs": [
    {
     "name": "stdout",
     "output_type": "stream",
     "text": [
      "['My', 'lover', 'is', 'mengyi']\n",
      "['cats', 'dogs', 'pigs']\n"
     ]
    }
   ],
   "source": [
    "# split() 方法默认使用空格分隔,分割后为列表类型\n",
    "spam = 'My lover is mengyi'.split()\n",
    "print(spam)\n",
    "spam = 'cats,dogs,pigs'.split(',')\n",
    "print(spam)"
   ]
  },
  {
   "cell_type": "code",
   "execution_count": 20,
   "metadata": {},
   "outputs": [
    {
     "name": "stdout",
     "output_type": "stream",
     "text": [
      "     Hello\n",
      "Hello     \n",
      "       Hello        \n",
      "=======Hello========\n",
      "*****Hello\n"
     ]
    }
   ],
   "source": [
    "# 用 rjust()、ljust()和 center()方法对齐文本\n",
    "# rjust表示左边调整 ljust表示右边调整\n",
    "sp = 'Hello'.rjust(10) # 默认插入空格\n",
    "print(sp)\n",
    "sb = 'Hello'.ljust(10)\n",
    "print(sb)\n",
    "st = 'Hello'.center(20)\n",
    "print(st)\n",
    "st = 'Hello'.center(20, '=')\n",
    "print(st)\n",
    "sp = 'Hello'.rjust(10, '*')\n",
    "print(sp)\n"
   ]
  },
  {
   "cell_type": "code",
   "execution_count": 22,
   "metadata": {},
   "outputs": [
    {
     "name": "stdout",
     "output_type": "stream",
     "text": [
      "Hello World\n",
      "Hello World \n",
      " Hello World\n"
     ]
    }
   ],
   "source": [
    "# 用 strip()、rstrip()和 lstrip()删除空白字符\n",
    "spam = ' Hello World '\n",
    "print(spam.strip()) # strip()函数去除开头和末尾的空格\n",
    "print(spam.lstrip())\n",
    "print(spam.rstrip())\n"
   ]
  },
  {
   "cell_type": "code",
   "execution_count": 25,
   "metadata": {},
   "outputs": [
    {
     "data": {
      "text/plain": [
       "<function pyperclip.init_windows_clipboard.<locals>.paste_windows()>"
      ]
     },
     "execution_count": 25,
     "metadata": {},
     "output_type": "execute_result"
    }
   ],
   "source": [
    "import pyperclip\n",
    "pyperclip.copy('Hello world!') # 'Hello World' 被粘贴在剪切板\n",
    "pyperclip.paste"
   ]
  },
  {
   "cell_type": "code",
   "execution_count": null,
   "metadata": {},
   "outputs": [],
   "source": []
  }
 ],
 "metadata": {
  "kernelspec": {
   "display_name": "Python 3",
   "language": "python",
   "name": "python3"
  },
  "language_info": {
   "codemirror_mode": {
    "name": "ipython",
    "version": 3
   },
   "file_extension": ".py",
   "mimetype": "text/x-python",
   "name": "python",
   "nbconvert_exporter": "python",
   "pygments_lexer": "ipython3",
   "version": "3.8.8"
  },
  "orig_nbformat": 4
 },
 "nbformat": 4,
 "nbformat_minor": 2
}

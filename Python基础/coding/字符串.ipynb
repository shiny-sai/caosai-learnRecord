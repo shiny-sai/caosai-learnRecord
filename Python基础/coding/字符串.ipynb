{
 "cells": [
  {
   "cell_type": "code",
   "execution_count": null,
   "metadata": {},
   "outputs": [],
   "source": [
    "spam = \"That is Alice's cat.\"\n",
    "# 字符串用双引号\n",
    "print(spam)"
   ]
  },
  {
   "cell_type": "code",
   "execution_count": null,
   "metadata": {},
   "outputs": [],
   "source": [
    "# 转义字符\n",
    "print('say hi to Bob\\'s mom')\n",
    "print('\\\"say hi to Bob\\'s mom\\\"')\n",
    "print('\\tsay hi to Bob\\'s mom')\n",
    "print('say hi \\nto Bob\\'s mom')\n",
    "print('say hi to Bob\\'s mom\\\\')"
   ]
  },
  {
   "cell_type": "code",
   "execution_count": null,
   "metadata": {},
   "outputs": [],
   "source": [
    "# 原始字符串\n",
    "print(r'say hi to Bob\\'s mom')\n",
    "# 在字符串前加r，表示原始字符串"
   ]
  },
  {
   "cell_type": "code",
   "execution_count": null,
   "metadata": {},
   "outputs": [],
   "source": [
    "# 三重引号 表示多行字符串\n",
    "\n",
    "print(''' she is\n",
    "my lover\n",
    "hahah''')"
   ]
  },
  {
   "cell_type": "code",
   "execution_count": 11,
   "metadata": {},
   "outputs": [
    {
     "name": "stdout",
     "output_type": "stream",
     "text": [
      "hel\n",
      "helloWor\n"
     ]
    }
   ],
   "source": [
    "# 字符串切片\n",
    "spam = 'helloWorld'\n",
    "\n",
    "print(spam[0:3])\n",
    "print(spam[0:8])"
   ]
  },
  {
   "cell_type": "code",
   "execution_count": null,
   "metadata": {},
   "outputs": [],
   "source": []
  }
 ],
 "metadata": {
  "kernelspec": {
   "display_name": "Python 3",
   "language": "python",
   "name": "python3"
  },
  "language_info": {
   "codemirror_mode": {
    "name": "ipython",
    "version": 3
   },
   "file_extension": ".py",
   "mimetype": "text/x-python",
   "name": "python",
   "nbconvert_exporter": "python",
   "pygments_lexer": "ipython3",
   "version": "3.8.8"
  },
  "orig_nbformat": 4
 },
 "nbformat": 4,
 "nbformat_minor": 2
}
